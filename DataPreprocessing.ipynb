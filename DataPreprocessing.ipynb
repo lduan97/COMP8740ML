{
 "cells": [
  {
   "cell_type": "code",
   "execution_count": 23,
   "id": "b6c2a7f7",
   "metadata": {},
   "outputs": [],
   "source": [
    "import pandas as pd\n",
    "import numpy as np\n",
    "import matplotlib.pyplot as plt\n",
    "\n",
    "df = pd.read_csv(\"OnlineNewsPopularity.csv\")\n",
    "df.drop(columns=df.columns[[0, 1]], axis=1, inplace=True)\n",
    "df.columns = df.columns.str.replace(' ', '')\n"
   ]
  },
  {
   "cell_type": "code",
   "execution_count": 24,
   "id": "e62a61de",
   "metadata": {},
   "outputs": [],
   "source": [
    "df.to_csv(\"OnlineNewsPopularity.csv\", index = False)"
   ]
  }
 ],
 "metadata": {
  "kernelspec": {
   "display_name": "Python 3",
   "language": "python",
   "name": "python3"
  },
  "language_info": {
   "codemirror_mode": {
    "name": "ipython",
    "version": 3
   },
   "file_extension": ".py",
   "mimetype": "text/x-python",
   "name": "python",
   "nbconvert_exporter": "python",
   "pygments_lexer": "ipython3",
   "version": "3.8.8"
  }
 },
 "nbformat": 4,
 "nbformat_minor": 5
}
